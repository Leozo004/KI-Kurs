{
 "cells": [
  {
   "cell_type": "markdown",
   "id": "d02b2f66-e4bb-4e00-b75b-fc7e8f2be417",
   "metadata": {
    "tags": []
   },
   "source": [
    "# Anomalie-, Fehler- und Ausreißererkennung"
   ]
  },
  {
   "cell_type": "markdown",
   "id": "5bd72cdc-0b61-4499-a00b-1ac0f91e326a",
   "metadata": {
    "tags": []
   },
   "source": [
    "## Einleitung\n",
    "\n",
    "Die Anomalie-, Fehler- und Ausreißererkennung bezieht sich auf Methoden, die darauf abzielen, ungewöhnliche oder unerwartete Muster in Daten zu erkennen. Diese Techniken sind besonders nützlich in Bereichen wie Betrugserkennung, Qualitätssicherung, Netzwerküberwachung oder der Erkennung von maschinellen Fehlern. "
   ]
  },
  {
   "cell_type": "markdown",
   "id": "251b6d99-f05a-4e95-9e8a-d45e260196d9",
   "metadata": {
    "tags": []
   },
   "source": [
    "## Anomalien, Fehler und Ausreißer\n",
    "\n",
    "### Anomalien\n",
    "\n",
    "Anomalien sind Datenpunkte, die sich stark von der Mehrheit der Daten unterscheiden. Sie weisen auf seltene, oft unerwartete Ereignisse hin, z.B. Fehler in Systemen oder ungewöhnliche Transaktionen (wie Kreditkartenbetrug).\n",
    "\n",
    "### Fehler\n",
    "\n",
    "Fehler sind in der Regel explizite Fehlfunktionen oder unerwartete Zustände in Systemen (z.B. Maschinenausfälle).\n",
    "\n",
    "\n",
    "### Ausreißer\n",
    "Ausreißer sind extreme Datenpunkte, die im Vergleich zum Rest der Daten besonders groß oder klein sind. Nicht alle Ausreißer sind Anomalien, aber sie können auf solche hindeuten."
   ]
  },
  {
   "cell_type": "markdown",
   "id": "bd5ac5a8-8a6a-40b5-b8fc-3f30d34f7623",
   "metadata": {
    "jp-MarkdownHeadingCollapsed": true,
    "tags": []
   },
   "source": [
    "## KI-Methoden zur Anomalieerkennung\n",
    "\n",
    "### Autoencoders\n",
    "\n",
    "Diese sind neuronale Netze, die darauf trainiert werden, die Eingabedaten zu komprimieren und wieder zu rekonstruieren. Wenn eine Eingabe nicht gut rekonstruiert wird (weil sie z.B. eine Anomalie ist), weist das Netz darauf hin.\n",
    "\n",
    "### Deep Learning\n",
    "\n",
    "Hierbei werden die Daten manuell mit Labels versehen (z.B. normale Daten vs. Anomalien). Anomalien werden, durch Training eines Klassifikationsalgorithmuses erkannt.\n",
    "\n",
    "### Zeitreihenmodelle mit KI\n",
    "\n",
    "Bei zeitlich geordneten Daten, werden spezielle LSTMs (Long Short-Term Memory Networks) genutzt, welche auf zeitliche Abhängigkeiten in den Daten achten. Solche Modelle lernen das „normale“ Verhalten über die Zeit und erkennen Anomalien, sofern diese auftreten sollten.\n",
    "\n",
    "### Clustering-basierte KI-Modelle \n",
    "\n",
    "Diese Methoden sind nützlich, wenn keine Labels vorhanden sind und die Datenclusterierung zur Erkennung von Ausreißern genutzt werden soll. KI-Algorithmen wie K-Means oder DBSCAN gruppieren ähnliche Datenpunkte. Punkte, die keiner Gruppe zugeordnet werden oder weit von den Gruppen entfernt liegen, können als Anomalien betrachtet werden."
   ]
  },
  {
   "cell_type": "markdown",
   "id": "bf2a2952-720c-4a9a-b2da-a582fbb9c54a",
   "metadata": {
    "jp-MarkdownHeadingCollapsed": true,
    "tags": []
   },
   "source": [
    "## Wie funktioniert die Anomalieerkennung?\n",
    "\n",
    "Die Anomalieerkennung sucht nach Mustern oder Datenpunkten, die nicht in das normale Verhalten passen. Anomalieerkennung mit KI nutzt Algorithmen, die Muster in den Daten lernen, um Unterschiede oder unerwartete Abweichungen zu erkennen. Im Gegensatz zu einfachen statistischen Methoden kann KI diese Muster in hochdimensionalen und komplexen Datensätzen effizient erfassen.\n"
   ]
  },
  {
   "cell_type": "markdown",
   "id": "2f3fd7dd-7b83-4ce3-855a-e0ccecf2a0aa",
   "metadata": {
    "tags": []
   },
   "source": [
    "## Anwendungsbeispiele\n",
    "\n",
    "### Betrugserkennung \n",
    "\n",
    "Um verdächtige Transaktionen zu erkennen, setzen Banken KI-Modelle ein. Jene analysieren große Mengen von Finanztransaktionen und markieren solche, die von der Norm abweichen (z.B. plötzliche große Ausgaben an ungewöhnlichen Orten).\n",
    "\n",
    "### Industrie 4.0\n",
    "\n",
    "In der Fertigung überwachen KI-gestützte Systeme Sensordaten von Maschinen, um Fehler oder Ausfälle vorherzusagen, bevor sie auftreten. Anomalien in Temperatur, Druck oder Schwingungen weisen auf potenzielle Probleme hin.\n",
    "\n",
    "### Gesundheitswesen\n",
    "\n",
    "KI-Systeme überwachen Vitaldaten von Patienten, um Anomalien (z.B. ungewöhnliche Herzfrequenz oder Atemmuster) zu erkennen, die auf gesundheitliche Komplikationen hinweisen."
   ]
  },
  {
   "cell_type": "markdown",
   "id": "2d022918-9718-44c4-819f-b06d94fc2f23",
   "metadata": {
    "tags": []
   },
   "source": [
    "## Fazit\n",
    "\n",
    "KI-basierte Anomalieerkennung nutzt Maschine Learning, um automatisch und effizient Muster in komplexen Datensätzen zu erkennen und von diesen abweichende Datenpunkte als Anomalien zu identifizieren. Sie ist besonders effektiv bei der Erkennung von seltenen, schwer vorhersagbaren Ereignissen in Daten, die zu groß oder komplex für traditionelle Ansätze sind."
   ]
  },
  {
   "cell_type": "markdown",
   "id": "02a4031c-e048-440c-bbb5-618add31ddfc",
   "metadata": {},
   "source": [
    "[1] https://towardsdatascience.com/anomaly-detection-using-autoencoders-5b032178a1ea <br>\n",
    "[2] https://deepai.org/machine-learning-glossary-and-terms/anomaly-detection <br>\n",
    "[3] https://www.kaggle.com/code/kmkarakaya/anomaly-detection-in-time-series"
   ]
  }
 ],
 "metadata": {
  "kernelspec": {
   "display_name": "Python 3 (ipykernel)",
   "language": "python",
   "name": "python3"
  },
  "language_info": {
   "codemirror_mode": {
    "name": "ipython",
    "version": 3
   },
   "file_extension": ".py",
   "mimetype": "text/x-python",
   "name": "python",
   "nbconvert_exporter": "python",
   "pygments_lexer": "ipython3",
   "version": "3.10.5"
  }
 },
 "nbformat": 4,
 "nbformat_minor": 5
}
