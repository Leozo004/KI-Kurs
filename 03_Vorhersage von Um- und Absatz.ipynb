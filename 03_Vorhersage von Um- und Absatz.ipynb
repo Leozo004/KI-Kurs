{
 "cells": [
  {
   "cell_type": "markdown",
   "id": "617b3da9-a79e-42ae-8232-bd19118efe9a",
   "metadata": {
    "tags": []
   },
   "source": [
    "# Vorhersage von Um- und Absatz"
   ]
  },
  {
   "cell_type": "markdown",
   "id": "c9dd3abe-6481-417d-934c-05f7ec2cd0ce",
   "metadata": {
    "jp-MarkdownHeadingCollapsed": true,
    "tags": []
   },
   "source": [
    "## Einleitung\n",
    "\n",
    "Die Vorhersage von Umsatz und Absatz mit Künstlicher Intelligenz (KI) bezieht sich auf den Einsatz von Machine Learning-Algorithmen und KI-Modellen, um zukünftige Verkaufszahlen oder Umsätze eines Unternehmens basierend auf historischen Daten vorherzusagen. KI kann dabei wesentlich präzisere Vorhersagen treffen als traditionelle Methoden, da sie komplexe Muster und Trends in großen Datensätzen automatisch erkennt und nutzt."
   ]
  },
  {
   "cell_type": "markdown",
   "id": "9fd00142-e0bc-46e3-a6f0-386505c96df2",
   "metadata": {
    "jp-MarkdownHeadingCollapsed": true,
    "tags": []
   },
   "source": [
    "## Wie funktioniert die Umsatz- und Absatzvorhersage mit KI?\n",
    "\n",
    "Die KI-basierte Vorhersage von Um- und Absatz basiert auf der Analyse von Zeitreihendaten – also Daten, die in chronologischer Reihenfolge gesammelt wurden (z.B. tägliche, wöchentliche oder monatliche Verkaufszahlen). KI-Modelle lernen Muster aus diesen historischen Daten, wie z.B. saisonale Schwankungen, Wachstums- oder Rückgangstrends und kurzfristige Spitzen, um präzise Prognosen für zukünftige Zeiträume zu erstellen.\n",
    "\n",
    "KI-Systeme beziehen viele Indikatoren mit ein:\n",
    "\n",
    "    -Wirtschaftliche Indikatoren (z.B. Arbeitslosenquote, Zinssätze)\n",
    "    \n",
    "    -Wetterdaten (z.B. für den Einzelhandel oder Tourismus)\n",
    "    \n",
    "    -Social-Media-Trends oder Kundenbewertungen"
   ]
  },
  {
   "cell_type": "markdown",
   "id": "cba8bd53-cdac-4ad3-b6d1-ac7f40461789",
   "metadata": {
    "jp-MarkdownHeadingCollapsed": true,
    "tags": []
   },
   "source": [
    "## KI-Methoden zur Umsatz- und Absatzprognose\n",
    "\n",
    "### Zeitreihenmodelle mit Machine Learning\n",
    "\n",
    "LSTMs (Long Short-Term Memory) sind spezialisierte neuronale Netzwerke für Zeitreihendaten, welche gut darin sind, Abhängigkeiten über längere Zeiträume zu erkennen. LSTMs können besonders saisonale Schwankungen oder plötzliche Veränderungen im Umsatzverhalten erfassen.\n",
    "\n",
    "Beispiel: Ein LSTM-Modell kann lernen, dass der Umsatz eines Einzelhändlers während der Weihnachtszeit immer steigt, und entsprechend zukünftige Spitzen vorhersagen.\n",
    "\n",
    "### Clustering-Algorithmen\n",
    "\n",
    "KI kann verwendet werden, um Kundengruppen oder Produkte auf Basis ähnlicher Kaufmuster zu segmentieren. Diese Segmentierung kann dann verwendet werden, um spezifische Prognosen für verschiedene Gruppen zu erstellen.\n",
    "\n",
    "Beispiel: Clustering-Methoden könnten Kunden identifizieren, die tendenziell in großen Mengen kaufen, und auf dieser Basis eine genauere Vorhersage für diese Gruppe machen.\n",
    "\n",
    "### Deep Learning\n",
    "\n",
    "Algorithmen, wie Random Forests oder Gradient Boosting Machines (GBMs), können mehrere Faktoren (z.B. Preis, Kundenverhalten, wirtschaftliche Bedingungen) gleichzeitig analysieren und präzise Vorhersagen treffen. Sie sind in der Lage, nicht-lineare Zusammenhänge zwischen den Variablen zu erkennen.\n",
    "\n",
    "Beispiel: Ein Random-Forest-Modell könnte vorhersagen, wie sich eine Marketingkampagne in verschiedenen Regionen auf den Absatz auswirken wird."
   ]
  },
  {
   "cell_type": "markdown",
   "id": "ec3d5018-554a-4289-970c-a772f65ce507",
   "metadata": {
    "tags": []
   },
   "source": [
    "## Beispiele für KI-Anwendungen in der Umsatz- und Absatzprognose\n",
    "\n",
    "### Einzelhandel und E-Commerce\n",
    "\n",
    "Online-Händler wie Amazon setzen KI ein, um zukünftige Produktverkäufe auf Basis historischer Verkaufsdaten, saisonaler Trends und Kundenverhalten vorherzusagen. Diese Vorhersagen helfen bei der Bestandsplanung und der Optimierung von Marketingkampagnen.\n",
    "\n",
    "### Finanzdienstleistungen\n",
    "\n",
    "Banken und Versicherungen nutzen KI, um zukünftige Einnahmen zu prognostizieren, basierend auf Kundenverhalten, wirtschaftlichen Indikatoren und vergangenen Transaktionen. Solche Vorhersagen helfen, Finanzstrategien zu planen und Risiken zu minimieren.\n",
    "\n",
    "### Supply-Chain-Management\n",
    "\n",
    "Um zukünftige Absatzmengen vorherzusagen, kann KI genutzt werden, um ihre Lieferkette zu optimieren. Dies hilft, Überbestände oder Lieferengpässe zu vermeiden, da die KI die Nachfrage genau vorhersagen kann."
   ]
  },
  {
   "cell_type": "markdown",
   "id": "cb30d91c-c5b3-447b-8ff5-9cf1d1d86adb",
   "metadata": {},
   "source": [
    "## Code zur Veranschaulichung\n",
    "\n",
    "Nun werden wir uns , zur Veranschaulichung, ein Codebeispiel ansehen. Dieses Beispiel ist kein komplexes, nur eines um zu veranschaulichen wie KI arbeitet. Die einzigen Daten die der KI, zum Training gegeben werden sind Tage und die Umsatzzahlen dazu, also keine speziellen Tageszeiten, Wetterdaten etc.. Zunächst müssen die Bibliotheken: Torch, SciKit-Learn, NumPy und SciPy installiert werden. Wobei NumPy in der Version 1.24.4 installiert werden muss, da es sonst Kompatiilitätsprobleme gibt."
   ]
  },
  {
   "cell_type": "code",
   "execution_count": 4,
   "id": "e4245b85-d045-4963-be9b-0d8c3c55c46f",
   "metadata": {},
   "outputs": [
    {
     "name": "stdout",
     "output_type": "stream",
     "text": [
      "Requirement already satisfied: torch in /opt/conda/lib/python3.10/site-packages (2.4.1)\n",
      "Requirement already satisfied: nvidia-cufft-cu12==11.0.2.54 in /opt/conda/lib/python3.10/site-packages (from torch) (11.0.2.54)\n",
      "Requirement already satisfied: nvidia-nvtx-cu12==12.1.105 in /opt/conda/lib/python3.10/site-packages (from torch) (12.1.105)\n",
      "Requirement already satisfied: nvidia-curand-cu12==10.3.2.106 in /opt/conda/lib/python3.10/site-packages (from torch) (10.3.2.106)\n",
      "Requirement already satisfied: nvidia-cublas-cu12==12.1.3.1 in /opt/conda/lib/python3.10/site-packages (from torch) (12.1.3.1)\n",
      "Requirement already satisfied: networkx in /opt/conda/lib/python3.10/site-packages (from torch) (3.4.1)\n",
      "Requirement already satisfied: nvidia-cuda-nvrtc-cu12==12.1.105 in /opt/conda/lib/python3.10/site-packages (from torch) (12.1.105)\n",
      "Requirement already satisfied: triton==3.0.0 in /opt/conda/lib/python3.10/site-packages (from torch) (3.0.0)\n",
      "Requirement already satisfied: nvidia-cuda-cupti-cu12==12.1.105 in /opt/conda/lib/python3.10/site-packages (from torch) (12.1.105)\n",
      "Requirement already satisfied: typing-extensions>=4.8.0 in /opt/conda/lib/python3.10/site-packages (from torch) (4.12.2)\n",
      "Requirement already satisfied: sympy in /opt/conda/lib/python3.10/site-packages (from torch) (1.13.3)\n",
      "Requirement already satisfied: fsspec in /opt/conda/lib/python3.10/site-packages (from torch) (2024.9.0)\n",
      "Requirement already satisfied: nvidia-cuda-runtime-cu12==12.1.105 in /opt/conda/lib/python3.10/site-packages (from torch) (12.1.105)\n",
      "Requirement already satisfied: nvidia-cusolver-cu12==11.4.5.107 in /opt/conda/lib/python3.10/site-packages (from torch) (11.4.5.107)\n",
      "Requirement already satisfied: nvidia-cusparse-cu12==12.1.0.106 in /opt/conda/lib/python3.10/site-packages (from torch) (12.1.0.106)\n",
      "Requirement already satisfied: nvidia-nccl-cu12==2.20.5 in /opt/conda/lib/python3.10/site-packages (from torch) (2.20.5)\n",
      "Requirement already satisfied: jinja2 in /opt/conda/lib/python3.10/site-packages (from torch) (3.1.2)\n",
      "Requirement already satisfied: filelock in /opt/conda/lib/python3.10/site-packages (from torch) (3.16.1)\n",
      "Requirement already satisfied: nvidia-cudnn-cu12==9.1.0.70 in /opt/conda/lib/python3.10/site-packages (from torch) (9.1.0.70)\n",
      "Requirement already satisfied: nvidia-nvjitlink-cu12 in /opt/conda/lib/python3.10/site-packages (from nvidia-cusolver-cu12==11.4.5.107->torch) (12.6.77)\n",
      "Requirement already satisfied: MarkupSafe>=2.0 in /opt/conda/lib/python3.10/site-packages (from jinja2->torch) (2.1.1)\n",
      "Requirement already satisfied: mpmath<1.4,>=1.1.0 in /opt/conda/lib/python3.10/site-packages (from sympy->torch) (1.3.0)\n",
      "Note: you may need to restart the kernel to use updated packages.\n"
     ]
    }
   ],
   "source": [
    "pip install torch"
   ]
  },
  {
   "cell_type": "code",
   "execution_count": 5,
   "id": "2e6f9976-69e3-4439-960d-d95d29b4da1b",
   "metadata": {},
   "outputs": [
    {
     "name": "stdout",
     "output_type": "stream",
     "text": [
      "Requirement already satisfied: scikit-learn in /opt/conda/lib/python3.10/site-packages (1.5.2)\n",
      "Requirement already satisfied: numpy>=1.19.5 in /opt/conda/lib/python3.10/site-packages (from scikit-learn) (1.24.4)\n",
      "Requirement already satisfied: threadpoolctl>=3.1.0 in /opt/conda/lib/python3.10/site-packages (from scikit-learn) (3.5.0)\n",
      "Requirement already satisfied: joblib>=1.2.0 in /opt/conda/lib/python3.10/site-packages (from scikit-learn) (1.4.2)\n",
      "Requirement already satisfied: scipy>=1.6.0 in /opt/conda/lib/python3.10/site-packages (from scikit-learn) (1.14.1)\n",
      "Note: you may need to restart the kernel to use updated packages.\n"
     ]
    }
   ],
   "source": [
    "pip install scikit-learn"
   ]
  },
  {
   "cell_type": "code",
   "execution_count": 6,
   "id": "c264efca-2744-4999-add0-8b94e478e194",
   "metadata": {},
   "outputs": [
    {
     "name": "stdout",
     "output_type": "stream",
     "text": [
      "Requirement already satisfied: numpy==1.24.4 in /opt/conda/lib/python3.10/site-packages (1.24.4)\n",
      "Note: you may need to restart the kernel to use updated packages.\n"
     ]
    }
   ],
   "source": [
    "pip install numpy==1.24.4"
   ]
  },
  {
   "cell_type": "code",
   "execution_count": 8,
   "id": "9f0786f8-2335-44eb-a1cb-7a3b016c224f",
   "metadata": {},
   "outputs": [
    {
     "name": "stdout",
     "output_type": "stream",
     "text": [
      "Requirement already satisfied: scipy in /opt/conda/lib/python3.10/site-packages (1.10.1)\n",
      "Requirement already satisfied: numpy<1.27.0,>=1.19.5 in /opt/conda/lib/python3.10/site-packages (from scipy) (1.24.4)\n",
      "Note: you may need to restart the kernel to use updated packages.\n"
     ]
    }
   ],
   "source": [
    "pip install scipy"
   ]
  },
  {
   "cell_type": "code",
   "execution_count": 2,
   "id": "b87321f0-519a-403d-9d56-54e94ca817f6",
   "metadata": {},
   "outputs": [
    {
     "name": "stdout",
     "output_type": "stream",
     "text": [
      "Epoch 0 loss: 0.2715767025947571\n",
      "Epoch 10 loss: 0.09910979121923447\n",
      "Epoch 20 loss: 0.08884269744157791\n",
      "Epoch 30 loss: 0.07996932417154312\n",
      "Epoch 40 loss: 0.07243265211582184\n",
      "Epoch 50 loss: 0.06643514335155487\n",
      "Epoch 60 loss: 0.061976607888936996\n",
      "Epoch 70 loss: 0.05881951004266739\n",
      "Epoch 80 loss: 0.05664537847042084\n",
      "Epoch 90 loss: 0.05516979098320007\n",
      "y-pred:  torch.Size([1])\n",
      "Y-train:  torch.Size([1])\n"
     ]
    },
    {
     "data": {
      "image/png": "[encoded data removed]",
      "text/plain": [
       "<Figure size 432x288 with 1 Axes>"
      ]
     },
     "metadata": {
      "needs_background": "light"
     },
     "output_type": "display_data"
    }
   ],
   "source": [
    "import torch \n",
    "import torch.nn as nn\n",
    "import numpy as np\n",
    "import pandas as pd\n",
    "from sklearn.preprocessing import MinMaxScaler\n",
    "import matplotlib.pyplot as plt\n",
    "\n",
    "# Daten laden und vorbereiten\n",
    "# bsp-Daten\n",
    "data = pd.read_csv('BspUmsatzDaten.csv') #Zeitreihendaten: Spalten (Datum, Umsatz)\n",
    "sales = data['Umsatz'].values\n",
    "\n",
    "# Daten zwischen 0 & 1 skalieren\n",
    "scaler = MinMaxScaler(feature_range=(0, 1))\n",
    "sales_scaled = scaler.fit_transform(sales.reshape(-1, 1))\n",
    "\n",
    "# Daten in In- & Output-Paare verwandeln\n",
    "\n",
    "def create_dataset(data, time_step = 1):\n",
    "    X, Y = [], []\n",
    "    for i in range(len(data) - time_step - 1):\n",
    "        X.append(data[i:(i + time_step), 0])\n",
    "        Y.append(data[i + time_step, 0])\n",
    "    return np.array(X), np.array(Y)\n",
    "\n",
    "time_step = 10 \n",
    "X, Y = create_dataset(sales_scaled, time_step)\n",
    "\n",
    "# Daten zu [samples, time steps, features] umformen\n",
    "X = X.reshape(X.shape[0], X.shape[1], 1)\n",
    "\n",
    "# in Torch Tensors umwandeln\n",
    "X_train = torch.from_numpy(X).type(torch.Tensor)\n",
    "Y_train = torch.from_numpy(Y).type(torch.Tensor)\n",
    "\n",
    "# LSTM-Modell definieren\n",
    "class LSTMModel(nn.Module):\n",
    "    def __init__(self, input_size=10,  hidden_layer_size=50, output_size=1):\n",
    "        super(LSTMModel, self).__init__()\n",
    "        self.hidden_layer_size = hidden_layer_size\n",
    "        self.lstm = nn.LSTM(input_size, hidden_layer_size)\n",
    "        self.linear = nn.Linear(hidden_layer_size, output_size)\n",
    "        self.hidden_cell = (torch.zeros(1, 1, self.hidden_layer_size),\n",
    "                            torch.zeros(1, 1, self.hidden_layer_size))\n",
    "        \n",
    "    def forward(self, input_seq):\n",
    "        lstm_out, self.hidden_cell = self.lstm(input_seq.view(len(input_seq), 1, -1), self.hidden_cell)\n",
    "        predictions = self.linear(lstm_out.view(len(input_seq), -1))\n",
    "        return predictions[-1]\n",
    "    \n",
    "# Modell instanziieren, Verlustfunktion und Optimierer\n",
    "model = LSTMModel()\n",
    "loss_function = nn.MSELoss()\n",
    "optimizer = torch.optim.Adam(model.parameters(), lr=0.0001)\n",
    "\n",
    "# Modelltraining\n",
    "epochs = 100\n",
    "for epoch in range(epochs):\n",
    "    for i in range(len(X_train)):\n",
    "        model.hidden_cell = (torch.zeros(1, 1, model.hidden_layer_size),\n",
    "                             torch.zeros(1, 1, model.hidden_layer_size))\n",
    "        \n",
    "        y_pred = model(X_train[i].view(1, 1, -1))\n",
    "        y_true = Y_train[i].unsqueeze(0)\n",
    "        \n",
    "        single_loss = loss_function(y_pred, y_true)\n",
    "        optimizer.zero_grad()\n",
    "        single_loss.backward()\n",
    "        optimizer.step()\n",
    "        \n",
    "    if epoch % 10 == 0:\n",
    "        print(f'Epoch {epoch} loss: {single_loss.item()}')\n",
    "        \n",
    "# Vorhersage und Visuallisierung\n",
    "model.eval()\n",
    "\n",
    "# erstellen der trainingsdaten für Vorhersagen\n",
    "train_predict = []\n",
    "model.eval()\n",
    "with torch.no_grad():\n",
    "    for i in range(len(X_train)):\n",
    "        model.hidden_cell = (torch.zeros(1, 1, model.hidden_layer_size), torch.zeros(1, 1, model.hidden_layer_size))\n",
    "        y_pred = model(X_train[i].view(1, 1, -1))\n",
    "        \n",
    "        train_predict.append(y_pred.item())\n",
    "        \n",
    "train_predict = np.array(train_predict).reshape(-1, 1)\n",
    "train_predict = scaler.inverse_transform(train_predict)\n",
    "\n",
    "# Originaldaten zurückskalieren\n",
    "sales_actual = scaler.inverse_transform(sales_scaled)\n",
    "\n",
    "# Überprüfung Demensionen\n",
    "print(\"y-pred: \", y_pred.shape)\n",
    "print(\"Y-train: \", y_true.shape)\n",
    "\n",
    "# Plot\n",
    "plt.plot(sales_actual, label='Ursprüngliche Daten')\n",
    "plt.plot(train_predict, label='Vorhersage')\n",
    "plt.xlabel('Tage')\n",
    "plt.ylabel('Euro')\n",
    "plt.legend()\n",
    "plt.show()"
   ]
  },
  {
   "cell_type": "markdown",
   "id": "681683d0-72da-49d4-850d-d626a437f000",
   "metadata": {},
   "source": [
    "Zunächst müssen die Bsp-Daten geladen werden, diese Daten können in der 'BspUmsatzDaten.csv' eingesehen werden. Jene Daten müssen zudem skalliert, in Paare verwandelt und in Torch Tensoren umgewandelt werden. Wenn das erledigt ist wird das LSTM-Modell definiert, in diesem Fall mit 10 Lagen, zu jeweils 50 Neuronen. Beim Trainieren der KI wird ein Loss-Wert, zu jeder Lage bestimmt, wobei versucht wird diesen Wert so gering wie möglich zu halten. Nachdem Modeltraining wird die Vorhersage, sowie die Visualisierung, realisiert. Zum Schluss werden die Originaldaten zurückskalliert und in desem Fall eine Grafik erstellt, welche die ursprünglihen Daten sowie die Vorhersage der KI beinhaltet."
   ]
  },
  {
   "cell_type": "markdown",
   "id": "d2c85321-69b3-4ba0-8d8e-a88d4e852819",
   "metadata": {},
   "source": [
    "## Fazit\n",
    "\n",
    "Die KI-basierte Umsatz- und Absatzprognose ermöglicht es Unternehmen, präzise und dynamische Vorhersagen zu treffen, indem sie historische Daten und externe Faktoren analysiert. Durch den Einsatz von Machine-Learning-Algorithmen wie LSTMs, Random Forests oder Prophet können Unternehmen ihre Verkaufsstrategien optimieren, die Lieferkette anpassen und sich auf zukünftige Nachfrageveränderungen vorbereiten. KI bietet einen klaren Vorteil gegenüber traditionellen Prognosemethoden, da sie komplexe Muster in den Daten erkennt und sich an neue Trends anpasst."
   ]
  },
  {
   "cell_type": "markdown",
   "id": "81df21b3-8ca5-41df-bac9-07cc807e8446",
   "metadata": {},
   "source": [
    "[1] https://digitalzentrum-hannover.de/aktuelles/ki-basierte-absatzplanung/ <br>\n",
    "[2] https://trendskout.com/de/allgemein/die-4-methoden-der-absatzprognose-mit-ki/"
   ]
  }
 ],
 "metadata": {
  "kernelspec": {
   "display_name": "Python 3 (ipykernel)",
   "language": "python",
   "name": "python3"
  },
  "language_info": {
   "codemirror_mode": {
    "name": "ipython",
    "version": 3
   },
   "file_extension": ".py",
   "mimetype": "text/x-python",
   "name": "python",
   "nbconvert_exporter": "python",
   "pygments_lexer": "ipython3",
   "version": "3.10.5"
  },
  "toc-autonumbering": true
 },
 "nbformat": 4,
 "nbformat_minor": 5
}
