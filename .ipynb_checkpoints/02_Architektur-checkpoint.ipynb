{
 "cells": [
  {
   "cell_type": "markdown",
   "id": "55ee6321-07e5-42fc-a536-06f3fb207892",
   "metadata": {},
   "source": [
    "# Architektur von KI"
   ]
  },
  {
   "cell_type": "markdown",
   "id": "3a5b68ec-896a-4241-99ca-8b656a09d059",
   "metadata": {},
   "source": [
    "## Einleitung\n",
    "\n",
    "Die Architektur von Künstlicher Intelligenz (KI) beschreibt, wie verschiedene Komponenten und Schichten eines KI-Systems strukturiert sind, um Aufgaben wie Datenverarbeitung, Mustererkennung oder Entscheidungsfindung durchzuführen. Es gibt verschiedene Arten von KI-Architekturen, abhängig von der spezifischen Anwendung und dem verwendeten Ansatz. Im Allgemeinen kann man KI-Architekturen in die folgenden Hauptkategorien einteilen:\n",
    "\n",
    "    -Basisarchitektur von KI-Systemen\n",
    "\n",
    "    -Arten von KI-Architekturen"
   ]
  },
  {
   "cell_type": "markdown",
   "id": "0aa4793a-3349-432a-9c3c-dc5e1e4acbc6",
   "metadata": {},
   "source": [
    "## Basisarchitektur von KI-Systemen\n",
    "\n",
    "### Datenverarbeitung\n",
    "\n",
    "Datenakquise: Rohdaten werden gesammelt und in ein Format gebracht, das für die KI-Verarbeitung geeignet ist. Dies kann Sensordaten, Text, Bilder oder andere Arten von Daten umfassen.\n",
    "Datenvorverarbeitung: Die Daten werden bereinigt, normalisiert und transformiert, um Rauschen zu reduzieren und relevante Merkmale hervorzuheben.\n",
    "\n",
    "### Modellierung\n",
    "\n",
    "Feature Engineering: Auswahl und Erstellung von relevanten Merkmalen (Features), die dem KI-Modell helfen, Muster und Zusammenhänge in den Daten zu erkennen.\n",
    "Modelltraining: Verschiedene Algorithmen (z.B. neuronale Netze, Entscheidungsbäume) werden verwendet, um ein Modell zu trainieren. Das Modell lernt aus den Daten und passt seine Parameter an, um bestimmte Aufgaben zu erfüllen.\n",
    "Modellbewertung: Das trainierte Modell wird getestet und bewertet, um sicherzustellen, dass es die Aufgabe wie erwartet erfüllt. Dabei werden Metriken wie Genauigkeit, Präzision, Recall und F1-Score verwendet.\n",
    "\n",
    "### Entscheidungsfindung und Ausgabe\n",
    "\n",
    "Inference (Schlussfolgerung): Das trainierte Modell wird verwendet, um Vorhersagen oder Entscheidungen basierend auf neuen Daten zu treffen.\n",
    "Post-Processing: Ergebnisse werden möglicherweise weiter verarbeitet, um sie für den Endnutzer verständlich zu machen oder zusätzliche Analysen durchzuführen."
   ]
  },
  {
   "cell_type": "markdown",
   "id": "c746d288-29dc-456e-86f8-eec54d67e959",
   "metadata": {},
   "source": [
    "## Arten von KI-Architekturen\n",
    "\n",
    "### Traditionelle Machine Learning-Architekturen\n",
    "\n",
    "#### Lineare Modelle\n",
    "\n",
    "Einfache Modelle, die auf linearen Beziehungen zwischen Eingabefunktionen und Ausgaben basieren (z.B. lineare Regression, logistische Regression).\n",
    "\n",
    "#### Entscheidungsbäume\n",
    "\n",
    "Hierarchische Modelle, die Entscheidungen basierend auf den Merkmalen der Daten treffen.\n",
    "\n",
    "#### Ensemble-Methoden\n",
    "\n",
    "Kombinieren mehrere Modelle, um die Leistung zu verbessern (z.B. Random Forests, Gradient Boosting Machines).\n",
    "\n",
    "### Neuronale Netzwerke und Deep Learning\n",
    "\n",
    "#### Feedforward Neural Networks (FNN) \n",
    "\n",
    "Die einfachste Form von neuronalen Netzwerken, bei denen Daten von der Eingabeschicht durch verborgene Schichten zur Ausgabeschicht fließen.\n",
    "\n",
    "#### Convolutional Neural Networks (CNN)\n",
    "\n",
    "Speziell für die Verarbeitung von Bilddaten entwickelt, nutzen CNNs Faltungsschichten, um lokale Merkmale zu extrahieren.\n",
    "\n",
    "#### Recurrent Neural Networks (RNN)\n",
    "\n",
    "Für die Verarbeitung von sequenziellen Daten geeignet, z.B. Text oder Zeitreihen, indem sie frühere Informationen über eine zeitliche Reihenfolge hinweg behalten (z.B. LSTM, GRU).\n",
    "\n",
    "### Spezialarchitekturen\n",
    "\n",
    "#### Transformers\n",
    "\n",
    "Ein modernes Modell, das vor allem in der Verarbeitung natürlicher Sprache verwendet wird. Transformers nutzen Selbstaufmerksamkeit, um Kontexte zu erfassen (z.B. BERT, GPT).\n",
    "\n",
    "#### Autoencoders\n",
    "\n",
    "Netzwerke, die lernen, Daten zu komprimieren und zu rekonstruieren, oft verwendet für Anomalieerkennung oder Datenkompression."
   ]
  },
  {
   "cell_type": "markdown",
   "id": "ba8478e9-de4f-4fb0-bd99-d5563d180136",
   "metadata": {},
   "source": [
    "[1] Natural Language Processing mit PyTorch (Buch) <br>\n",
    "[2] https://research.google/blog/transformer-a-novel-neural-network-architecture-for-language-understanding/ <br>\n",
    "[3] https://keras.io"
   ]
  }
 ],
 "metadata": {
  "kernelspec": {
   "display_name": "Python 3 (ipykernel)",
   "language": "python",
   "name": "python3"
  },
  "language_info": {
   "codemirror_mode": {
    "name": "ipython",
    "version": 3
   },
   "file_extension": ".py",
   "mimetype": "text/x-python",
   "name": "python",
   "nbconvert_exporter": "python",
   "pygments_lexer": "ipython3",
   "version": "3.10.5"
  }
 },
 "nbformat": 4,
 "nbformat_minor": 5
}
